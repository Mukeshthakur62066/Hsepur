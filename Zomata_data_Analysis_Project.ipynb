{
  "nbformat": 4,
  "nbformat_minor": 0,
  "metadata": {
    "colab": {
      "provenance": [],
      "authorship_tag": "ABX9TyN0BqiLgszOYzGX7qE4+e/a",
      "include_colab_link": true
    },
    "kernelspec": {
      "name": "python3",
      "display_name": "Python 3"
    },
    "language_info": {
      "name": "python"
    }
  },
  "cells": [
    {
      "cell_type": "markdown",
      "metadata": {
        "id": "view-in-github",
        "colab_type": "text"
      },
      "source": [
        "<a href=\"https://colab.research.google.com/github/Mukeshthakur62066/Hsepur/blob/main/Zomata_data_Analysis_Project.ipynb\" target=\"_parent\"><img src=\"https://colab.research.google.com/assets/colab-badge.svg\" alt=\"Open In Colab\"/></a>"
      ]
    },
    {
      "cell_type": "markdown",
      "source": [
        "**Zomato Project**"
      ],
      "metadata": {
        "id": "0268U-EAho3_"
      }
    },
    {
      "cell_type": "markdown",
      "source": [
        "![Zomato.jpeg](data:image/jpeg;base64,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)"
      ],
      "metadata": {
        "id": "7S15kd1ji1sG"
      }
    },
    {
      "cell_type": "markdown",
      "source": [
        "Importing Libraries"
      ],
      "metadata": {
        "id": "ozPodBVmjuZU"
      }
    },
    {
      "cell_type": "code",
      "source": [
        "import pandas as pd\n",
        "import numpy as np\n",
        "import matplotlib.pyplot as plt\n",
        "import seaborn as sns"
      ],
      "metadata": {
        "id": "028-lzn0iYYu"
      },
      "execution_count": 1,
      "outputs": []
    },
    {
      "cell_type": "markdown",
      "source": [
        "import Data Set"
      ],
      "metadata": {
        "id": "xTS9kRRSkKWz"
      }
    },
    {
      "cell_type": "code",
      "source": [
        "df = pd.read_csv('https://github.com/TheiScale/YouTube-Video-Notes/raw/main/Zomato_Python_Project/Zomato%20data%20.csv')"
      ],
      "metadata": {
        "id": "Q0PaQX0rkDr9"
      },
      "execution_count": 5,
      "outputs": []
    },
    {
      "cell_type": "code",
      "source": [
        "df.head()"
      ],
      "metadata": {
        "colab": {
          "base_uri": "https://localhost:8080/",
          "height": 206
        },
        "id": "wMtiDWnGkbbI",
        "outputId": "35fc0ec1-3ff4-4241-ab01-f77084247793"
      },
      "execution_count": 6,
      "outputs": [
        {
          "output_type": "execute_result",
          "data": {
            "text/plain": [
              "                    name online_order book_table   rate  votes  \\\n",
              "0                  Jalsa          Yes        Yes  4.1/5    775   \n",
              "1         Spice Elephant          Yes         No  4.1/5    787   \n",
              "2        San Churro Cafe          Yes         No  3.8/5    918   \n",
              "3  Addhuri Udupi Bhojana           No         No  3.7/5     88   \n",
              "4          Grand Village           No         No  3.8/5    166   \n",
              "\n",
              "   approx_cost(for two people) listed_in(type)  \n",
              "0                          800          Buffet  \n",
              "1                          800          Buffet  \n",
              "2                          800          Buffet  \n",
              "3                          300          Buffet  \n",
              "4                          600          Buffet  "
            ],
            "text/html": [
              "\n",
              "  <div id=\"df-7836b6e4-4bcb-46ce-a906-2395e4f0be91\" class=\"colab-df-container\">\n",
              "    <div>\n",
              "<style scoped>\n",
              "    .dataframe tbody tr th:only-of-type {\n",
              "        vertical-align: middle;\n",
              "    }\n",
              "\n",
              "    .dataframe tbody tr th {\n",
              "        vertical-align: top;\n",
              "    }\n",
              "\n",
              "    .dataframe thead th {\n",
              "        text-align: right;\n",
              "    }\n",
              "</style>\n",
              "<table border=\"1\" class=\"dataframe\">\n",
              "  <thead>\n",
              "    <tr style=\"text-align: right;\">\n",
              "      <th></th>\n",
              "      <th>name</th>\n",
              "      <th>online_order</th>\n",
              "      <th>book_table</th>\n",
              "      <th>rate</th>\n",
              "      <th>votes</th>\n",
              "      <th>approx_cost(for two people)</th>\n",
              "      <th>listed_in(type)</th>\n",
              "    </tr>\n",
              "  </thead>\n",
              "  <tbody>\n",
              "    <tr>\n",
              "      <th>0</th>\n",
              "      <td>Jalsa</td>\n",
              "      <td>Yes</td>\n",
              "      <td>Yes</td>\n",
              "      <td>4.1/5</td>\n",
              "      <td>775</td>\n",
              "      <td>800</td>\n",
              "      <td>Buffet</td>\n",
              "    </tr>\n",
              "    <tr>\n",
              "      <th>1</th>\n",
              "      <td>Spice Elephant</td>\n",
              "      <td>Yes</td>\n",
              "      <td>No</td>\n",
              "      <td>4.1/5</td>\n",
              "      <td>787</td>\n",
              "      <td>800</td>\n",
              "      <td>Buffet</td>\n",
              "    </tr>\n",
              "    <tr>\n",
              "      <th>2</th>\n",
              "      <td>San Churro Cafe</td>\n",
              "      <td>Yes</td>\n",
              "      <td>No</td>\n",
              "      <td>3.8/5</td>\n",
              "      <td>918</td>\n",
              "      <td>800</td>\n",
              "      <td>Buffet</td>\n",
              "    </tr>\n",
              "    <tr>\n",
              "      <th>3</th>\n",
              "      <td>Addhuri Udupi Bhojana</td>\n",
              "      <td>No</td>\n",
              "      <td>No</td>\n",
              "      <td>3.7/5</td>\n",
              "      <td>88</td>\n",
              "      <td>300</td>\n",
              "      <td>Buffet</td>\n",
              "    </tr>\n",
              "    <tr>\n",
              "      <th>4</th>\n",
              "      <td>Grand Village</td>\n",
              "      <td>No</td>\n",
              "      <td>No</td>\n",
              "      <td>3.8/5</td>\n",
              "      <td>166</td>\n",
              "      <td>600</td>\n",
              "      <td>Buffet</td>\n",
              "    </tr>\n",
              "  </tbody>\n",
              "</table>\n",
              "</div>\n",
              "    <div class=\"colab-df-buttons\">\n",
              "\n",
              "  <div class=\"colab-df-container\">\n",
              "    <button class=\"colab-df-convert\" onclick=\"convertToInteractive('df-7836b6e4-4bcb-46ce-a906-2395e4f0be91')\"\n",
              "            title=\"Convert this dataframe to an interactive table.\"\n",
              "            style=\"display:none;\">\n",
              "\n",
              "  <svg xmlns=\"http://www.w3.org/2000/svg\" height=\"24px\" viewBox=\"0 -960 960 960\">\n",
              "    <path d=\"M120-120v-720h720v720H120Zm60-500h600v-160H180v160Zm220 220h160v-160H400v160Zm0 220h160v-160H400v160ZM180-400h160v-160H180v160Zm440 0h160v-160H620v160ZM180-180h160v-160H180v160Zm440 0h160v-160H620v160Z\"/>\n",
              "  </svg>\n",
              "    </button>\n",
              "\n",
              "  <style>\n",
              "    .colab-df-container {\n",
              "      display:flex;\n",
              "      gap: 12px;\n",
              "    }\n",
              "\n",
              "    .colab-df-convert {\n",
              "      background-color: #E8F0FE;\n",
              "      border: none;\n",
              "      border-radius: 50%;\n",
              "      cursor: pointer;\n",
              "      display: none;\n",
              "      fill: #1967D2;\n",
              "      height: 32px;\n",
              "      padding: 0 0 0 0;\n",
              "      width: 32px;\n",
              "    }\n",
              "\n",
              "    .colab-df-convert:hover {\n",
              "      background-color: #E2EBFA;\n",
              "      box-shadow: 0px 1px 2px rgba(60, 64, 67, 0.3), 0px 1px 3px 1px rgba(60, 64, 67, 0.15);\n",
              "      fill: #174EA6;\n",
              "    }\n",
              "\n",
              "    .colab-df-buttons div {\n",
              "      margin-bottom: 4px;\n",
              "    }\n",
              "\n",
              "    [theme=dark] .colab-df-convert {\n",
              "      background-color: #3B4455;\n",
              "      fill: #D2E3FC;\n",
              "    }\n",
              "\n",
              "    [theme=dark] .colab-df-convert:hover {\n",
              "      background-color: #434B5C;\n",
              "      box-shadow: 0px 1px 3px 1px rgba(0, 0, 0, 0.15);\n",
              "      filter: drop-shadow(0px 1px 2px rgba(0, 0, 0, 0.3));\n",
              "      fill: #FFFFFF;\n",
              "    }\n",
              "  </style>\n",
              "\n",
              "    <script>\n",
              "      const buttonEl =\n",
              "        document.querySelector('#df-7836b6e4-4bcb-46ce-a906-2395e4f0be91 button.colab-df-convert');\n",
              "      buttonEl.style.display =\n",
              "        google.colab.kernel.accessAllowed ? 'block' : 'none';\n",
              "\n",
              "      async function convertToInteractive(key) {\n",
              "        const element = document.querySelector('#df-7836b6e4-4bcb-46ce-a906-2395e4f0be91');\n",
              "        const dataTable =\n",
              "          await google.colab.kernel.invokeFunction('convertToInteractive',\n",
              "                                                    [key], {});\n",
              "        if (!dataTable) return;\n",
              "\n",
              "        const docLinkHtml = 'Like what you see? Visit the ' +\n",
              "          '<a target=\"_blank\" href=https://colab.research.google.com/notebooks/data_table.ipynb>data table notebook</a>'\n",
              "          + ' to learn more about interactive tables.';\n",
              "        element.innerHTML = '';\n",
              "        dataTable['output_type'] = 'display_data';\n",
              "        await google.colab.output.renderOutput(dataTable, element);\n",
              "        const docLink = document.createElement('div');\n",
              "        docLink.innerHTML = docLinkHtml;\n",
              "        element.appendChild(docLink);\n",
              "      }\n",
              "    </script>\n",
              "  </div>\n",
              "\n",
              "\n",
              "<div id=\"df-14bf18f8-a1b7-42f8-bfc7-5ed1d250dcfa\">\n",
              "  <button class=\"colab-df-quickchart\" onclick=\"quickchart('df-14bf18f8-a1b7-42f8-bfc7-5ed1d250dcfa')\"\n",
              "            title=\"Suggest charts\"\n",
              "            style=\"display:none;\">\n",
              "\n",
              "<svg xmlns=\"http://www.w3.org/2000/svg\" height=\"24px\"viewBox=\"0 0 24 24\"\n",
              "     width=\"24px\">\n",
              "    <g>\n",
              "        <path d=\"M19 3H5c-1.1 0-2 .9-2 2v14c0 1.1.9 2 2 2h14c1.1 0 2-.9 2-2V5c0-1.1-.9-2-2-2zM9 17H7v-7h2v7zm4 0h-2V7h2v10zm4 0h-2v-4h2v4z\"/>\n",
              "    </g>\n",
              "</svg>\n",
              "  </button>\n",
              "\n",
              "<style>\n",
              "  .colab-df-quickchart {\n",
              "      --bg-color: #E8F0FE;\n",
              "      --fill-color: #1967D2;\n",
              "      --hover-bg-color: #E2EBFA;\n",
              "      --hover-fill-color: #174EA6;\n",
              "      --disabled-fill-color: #AAA;\n",
              "      --disabled-bg-color: #DDD;\n",
              "  }\n",
              "\n",
              "  [theme=dark] .colab-df-quickchart {\n",
              "      --bg-color: #3B4455;\n",
              "      --fill-color: #D2E3FC;\n",
              "      --hover-bg-color: #434B5C;\n",
              "      --hover-fill-color: #FFFFFF;\n",
              "      --disabled-bg-color: #3B4455;\n",
              "      --disabled-fill-color: #666;\n",
              "  }\n",
              "\n",
              "  .colab-df-quickchart {\n",
              "    background-color: var(--bg-color);\n",
              "    border: none;\n",
              "    border-radius: 50%;\n",
              "    cursor: pointer;\n",
              "    display: none;\n",
              "    fill: var(--fill-color);\n",
              "    height: 32px;\n",
              "    padding: 0;\n",
              "    width: 32px;\n",
              "  }\n",
              "\n",
              "  .colab-df-quickchart:hover {\n",
              "    background-color: var(--hover-bg-color);\n",
              "    box-shadow: 0 1px 2px rgba(60, 64, 67, 0.3), 0 1px 3px 1px rgba(60, 64, 67, 0.15);\n",
              "    fill: var(--button-hover-fill-color);\n",
              "  }\n",
              "\n",
              "  .colab-df-quickchart-complete:disabled,\n",
              "  .colab-df-quickchart-complete:disabled:hover {\n",
              "    background-color: var(--disabled-bg-color);\n",
              "    fill: var(--disabled-fill-color);\n",
              "    box-shadow: none;\n",
              "  }\n",
              "\n",
              "  .colab-df-spinner {\n",
              "    border: 2px solid var(--fill-color);\n",
              "    border-color: transparent;\n",
              "    border-bottom-color: var(--fill-color);\n",
              "    animation:\n",
              "      spin 1s steps(1) infinite;\n",
              "  }\n",
              "\n",
              "  @keyframes spin {\n",
              "    0% {\n",
              "      border-color: transparent;\n",
              "      border-bottom-color: var(--fill-color);\n",
              "      border-left-color: var(--fill-color);\n",
              "    }\n",
              "    20% {\n",
              "      border-color: transparent;\n",
              "      border-left-color: var(--fill-color);\n",
              "      border-top-color: var(--fill-color);\n",
              "    }\n",
              "    30% {\n",
              "      border-color: transparent;\n",
              "      border-left-color: var(--fill-color);\n",
              "      border-top-color: var(--fill-color);\n",
              "      border-right-color: var(--fill-color);\n",
              "    }\n",
              "    40% {\n",
              "      border-color: transparent;\n",
              "      border-right-color: var(--fill-color);\n",
              "      border-top-color: var(--fill-color);\n",
              "    }\n",
              "    60% {\n",
              "      border-color: transparent;\n",
              "      border-right-color: var(--fill-color);\n",
              "    }\n",
              "    80% {\n",
              "      border-color: transparent;\n",
              "      border-right-color: var(--fill-color);\n",
              "      border-bottom-color: var(--fill-color);\n",
              "    }\n",
              "    90% {\n",
              "      border-color: transparent;\n",
              "      border-bottom-color: var(--fill-color);\n",
              "    }\n",
              "  }\n",
              "</style>\n",
              "\n",
              "  <script>\n",
              "    async function quickchart(key) {\n",
              "      const quickchartButtonEl =\n",
              "        document.querySelector('#' + key + ' button');\n",
              "      quickchartButtonEl.disabled = true;  // To prevent multiple clicks.\n",
              "      quickchartButtonEl.classList.add('colab-df-spinner');\n",
              "      try {\n",
              "        const charts = await google.colab.kernel.invokeFunction(\n",
              "            'suggestCharts', [key], {});\n",
              "      } catch (error) {\n",
              "        console.error('Error during call to suggestCharts:', error);\n",
              "      }\n",
              "      quickchartButtonEl.classList.remove('colab-df-spinner');\n",
              "      quickchartButtonEl.classList.add('colab-df-quickchart-complete');\n",
              "    }\n",
              "    (() => {\n",
              "      let quickchartButtonEl =\n",
              "        document.querySelector('#df-14bf18f8-a1b7-42f8-bfc7-5ed1d250dcfa button');\n",
              "      quickchartButtonEl.style.display =\n",
              "        google.colab.kernel.accessAllowed ? 'block' : 'none';\n",
              "    })();\n",
              "  </script>\n",
              "</div>\n",
              "\n",
              "    </div>\n",
              "  </div>\n"
            ],
            "application/vnd.google.colaboratory.intrinsic+json": {
              "type": "dataframe",
              "variable_name": "df",
              "summary": "{\n  \"name\": \"df\",\n  \"rows\": 148,\n  \"fields\": [\n    {\n      \"column\": \"name\",\n      \"properties\": {\n        \"dtype\": \"string\",\n        \"num_unique_values\": 145,\n        \"samples\": [\n          \"The Biryani Cafe\",\n          \"Melting Melodies\",\n          \"Cuppa\"\n        ],\n        \"semantic_type\": \"\",\n        \"description\": \"\"\n      }\n    },\n    {\n      \"column\": \"online_order\",\n      \"properties\": {\n        \"dtype\": \"category\",\n        \"num_unique_values\": 2,\n        \"samples\": [\n          \"No\",\n          \"Yes\"\n        ],\n        \"semantic_type\": \"\",\n        \"description\": \"\"\n      }\n    },\n    {\n      \"column\": \"book_table\",\n      \"properties\": {\n        \"dtype\": \"category\",\n        \"num_unique_values\": 2,\n        \"samples\": [\n          \"No\",\n          \"Yes\"\n        ],\n        \"semantic_type\": \"\",\n        \"description\": \"\"\n      }\n    },\n    {\n      \"column\": \"rate\",\n      \"properties\": {\n        \"dtype\": \"category\",\n        \"num_unique_values\": 20,\n        \"samples\": [\n          \"4.1/5\",\n          \"2.6/5\"\n        ],\n        \"semantic_type\": \"\",\n        \"description\": \"\"\n      }\n    },\n    {\n      \"column\": \"votes\",\n      \"properties\": {\n        \"dtype\": \"number\",\n        \"std\": 653,\n        \"min\": 0,\n        \"max\": 4884,\n        \"num_unique_values\": 90,\n        \"samples\": [\n          244,\n          31\n        ],\n        \"semantic_type\": \"\",\n        \"description\": \"\"\n      }\n    },\n    {\n      \"column\": \"approx_cost(for two people)\",\n      \"properties\": {\n        \"dtype\": \"number\",\n        \"std\": 223,\n        \"min\": 100,\n        \"max\": 950,\n        \"num_unique_values\": 18,\n        \"samples\": [\n          800,\n          300\n        ],\n        \"semantic_type\": \"\",\n        \"description\": \"\"\n      }\n    },\n    {\n      \"column\": \"listed_in(type)\",\n      \"properties\": {\n        \"dtype\": \"category\",\n        \"num_unique_values\": 4,\n        \"samples\": [\n          \"Cafes\",\n          \"Dining\"\n        ],\n        \"semantic_type\": \"\",\n        \"description\": \"\"\n      }\n    }\n  ]\n}"
            }
          },
          "metadata": {},
          "execution_count": 6
        }
      ]
    },
    {
      "cell_type": "code",
      "source": [
        "df.tail()"
      ],
      "metadata": {
        "colab": {
          "base_uri": "https://localhost:8080/",
          "height": 206
        },
        "id": "OS4VGLUumyRN",
        "outputId": "964e5343-7c5e-4e6b-9f4a-9dce7c45ab98"
      },
      "execution_count": 7,
      "outputs": [
        {
          "output_type": "execute_result",
          "data": {
            "text/plain": [
              "                 name online_order book_table   rate  votes  \\\n",
              "143  Melting Melodies           No         No  3.3/5      0   \n",
              "144   New Indraprasta           No         No  3.3/5      0   \n",
              "145      Anna Kuteera          Yes         No  4.0/5    771   \n",
              "146            Darbar           No         No  3.0/5     98   \n",
              "147     Vijayalakshmi          Yes         No  3.9/5     47   \n",
              "\n",
              "     approx_cost(for two people) listed_in(type)  \n",
              "143                          100          Dining  \n",
              "144                          150          Dining  \n",
              "145                          450          Dining  \n",
              "146                          800          Dining  \n",
              "147                          200          Dining  "
            ],
            "text/html": [
              "\n",
              "  <div id=\"df-a07987a9-3db1-4a28-aeba-0ecea07ca745\" class=\"colab-df-container\">\n",
              "    <div>\n",
              "<style scoped>\n",
              "    .dataframe tbody tr th:only-of-type {\n",
              "        vertical-align: middle;\n",
              "    }\n",
              "\n",
              "    .dataframe tbody tr th {\n",
              "        vertical-align: top;\n",
              "    }\n",
              "\n",
              "    .dataframe thead th {\n",
              "        text-align: right;\n",
              "    }\n",
              "</style>\n",
              "<table border=\"1\" class=\"dataframe\">\n",
              "  <thead>\n",
              "    <tr style=\"text-align: right;\">\n",
              "      <th></th>\n",
              "      <th>name</th>\n",
              "      <th>online_order</th>\n",
              "      <th>book_table</th>\n",
              "      <th>rate</th>\n",
              "      <th>votes</th>\n",
              "      <th>approx_cost(for two people)</th>\n",
              "      <th>listed_in(type)</th>\n",
              "    </tr>\n",
              "  </thead>\n",
              "  <tbody>\n",
              "    <tr>\n",
              "      <th>143</th>\n",
              "      <td>Melting Melodies</td>\n",
              "      <td>No</td>\n",
              "      <td>No</td>\n",
              "      <td>3.3/5</td>\n",
              "      <td>0</td>\n",
              "      <td>100</td>\n",
              "      <td>Dining</td>\n",
              "    </tr>\n",
              "    <tr>\n",
              "      <th>144</th>\n",
              "      <td>New Indraprasta</td>\n",
              "      <td>No</td>\n",
              "      <td>No</td>\n",
              "      <td>3.3/5</td>\n",
              "      <td>0</td>\n",
              "      <td>150</td>\n",
              "      <td>Dining</td>\n",
              "    </tr>\n",
              "    <tr>\n",
              "      <th>145</th>\n",
              "      <td>Anna Kuteera</td>\n",
              "      <td>Yes</td>\n",
              "      <td>No</td>\n",
              "      <td>4.0/5</td>\n",
              "      <td>771</td>\n",
              "      <td>450</td>\n",
              "      <td>Dining</td>\n",
              "    </tr>\n",
              "    <tr>\n",
              "      <th>146</th>\n",
              "      <td>Darbar</td>\n",
              "      <td>No</td>\n",
              "      <td>No</td>\n",
              "      <td>3.0/5</td>\n",
              "      <td>98</td>\n",
              "      <td>800</td>\n",
              "      <td>Dining</td>\n",
              "    </tr>\n",
              "    <tr>\n",
              "      <th>147</th>\n",
              "      <td>Vijayalakshmi</td>\n",
              "      <td>Yes</td>\n",
              "      <td>No</td>\n",
              "      <td>3.9/5</td>\n",
              "      <td>47</td>\n",
              "      <td>200</td>\n",
              "      <td>Dining</td>\n",
              "    </tr>\n",
              "  </tbody>\n",
              "</table>\n",
              "</div>\n",
              "    <div class=\"colab-df-buttons\">\n",
              "\n",
              "  <div class=\"colab-df-container\">\n",
              "    <button class=\"colab-df-convert\" onclick=\"convertToInteractive('df-a07987a9-3db1-4a28-aeba-0ecea07ca745')\"\n",
              "            title=\"Convert this dataframe to an interactive table.\"\n",
              "            style=\"display:none;\">\n",
              "\n",
              "  <svg xmlns=\"http://www.w3.org/2000/svg\" height=\"24px\" viewBox=\"0 -960 960 960\">\n",
              "    <path d=\"M120-120v-720h720v720H120Zm60-500h600v-160H180v160Zm220 220h160v-160H400v160Zm0 220h160v-160H400v160ZM180-400h160v-160H180v160Zm440 0h160v-160H620v160ZM180-180h160v-160H180v160Zm440 0h160v-160H620v160Z\"/>\n",
              "  </svg>\n",
              "    </button>\n",
              "\n",
              "  <style>\n",
              "    .colab-df-container {\n",
              "      display:flex;\n",
              "      gap: 12px;\n",
              "    }\n",
              "\n",
              "    .colab-df-convert {\n",
              "      background-color: #E8F0FE;\n",
              "      border: none;\n",
              "      border-radius: 50%;\n",
              "      cursor: pointer;\n",
              "      display: none;\n",
              "      fill: #1967D2;\n",
              "      height: 32px;\n",
              "      padding: 0 0 0 0;\n",
              "      width: 32px;\n",
              "    }\n",
              "\n",
              "    .colab-df-convert:hover {\n",
              "      background-color: #E2EBFA;\n",
              "      box-shadow: 0px 1px 2px rgba(60, 64, 67, 0.3), 0px 1px 3px 1px rgba(60, 64, 67, 0.15);\n",
              "      fill: #174EA6;\n",
              "    }\n",
              "\n",
              "    .colab-df-buttons div {\n",
              "      margin-bottom: 4px;\n",
              "    }\n",
              "\n",
              "    [theme=dark] .colab-df-convert {\n",
              "      background-color: #3B4455;\n",
              "      fill: #D2E3FC;\n",
              "    }\n",
              "\n",
              "    [theme=dark] .colab-df-convert:hover {\n",
              "      background-color: #434B5C;\n",
              "      box-shadow: 0px 1px 3px 1px rgba(0, 0, 0, 0.15);\n",
              "      filter: drop-shadow(0px 1px 2px rgba(0, 0, 0, 0.3));\n",
              "      fill: #FFFFFF;\n",
              "    }\n",
              "  </style>\n",
              "\n",
              "    <script>\n",
              "      const buttonEl =\n",
              "        document.querySelector('#df-a07987a9-3db1-4a28-aeba-0ecea07ca745 button.colab-df-convert');\n",
              "      buttonEl.style.display =\n",
              "        google.colab.kernel.accessAllowed ? 'block' : 'none';\n",
              "\n",
              "      async function convertToInteractive(key) {\n",
              "        const element = document.querySelector('#df-a07987a9-3db1-4a28-aeba-0ecea07ca745');\n",
              "        const dataTable =\n",
              "          await google.colab.kernel.invokeFunction('convertToInteractive',\n",
              "                                                    [key], {});\n",
              "        if (!dataTable) return;\n",
              "\n",
              "        const docLinkHtml = 'Like what you see? Visit the ' +\n",
              "          '<a target=\"_blank\" href=https://colab.research.google.com/notebooks/data_table.ipynb>data table notebook</a>'\n",
              "          + ' to learn more about interactive tables.';\n",
              "        element.innerHTML = '';\n",
              "        dataTable['output_type'] = 'display_data';\n",
              "        await google.colab.output.renderOutput(dataTable, element);\n",
              "        const docLink = document.createElement('div');\n",
              "        docLink.innerHTML = docLinkHtml;\n",
              "        element.appendChild(docLink);\n",
              "      }\n",
              "    </script>\n",
              "  </div>\n",
              "\n",
              "\n",
              "<div id=\"df-edfe4fb1-6420-4730-b6ec-c9669a37f669\">\n",
              "  <button class=\"colab-df-quickchart\" onclick=\"quickchart('df-edfe4fb1-6420-4730-b6ec-c9669a37f669')\"\n",
              "            title=\"Suggest charts\"\n",
              "            style=\"display:none;\">\n",
              "\n",
              "<svg xmlns=\"http://www.w3.org/2000/svg\" height=\"24px\"viewBox=\"0 0 24 24\"\n",
              "     width=\"24px\">\n",
              "    <g>\n",
              "        <path d=\"M19 3H5c-1.1 0-2 .9-2 2v14c0 1.1.9 2 2 2h14c1.1 0 2-.9 2-2V5c0-1.1-.9-2-2-2zM9 17H7v-7h2v7zm4 0h-2V7h2v10zm4 0h-2v-4h2v4z\"/>\n",
              "    </g>\n",
              "</svg>\n",
              "  </button>\n",
              "\n",
              "<style>\n",
              "  .colab-df-quickchart {\n",
              "      --bg-color: #E8F0FE;\n",
              "      --fill-color: #1967D2;\n",
              "      --hover-bg-color: #E2EBFA;\n",
              "      --hover-fill-color: #174EA6;\n",
              "      --disabled-fill-color: #AAA;\n",
              "      --disabled-bg-color: #DDD;\n",
              "  }\n",
              "\n",
              "  [theme=dark] .colab-df-quickchart {\n",
              "      --bg-color: #3B4455;\n",
              "      --fill-color: #D2E3FC;\n",
              "      --hover-bg-color: #434B5C;\n",
              "      --hover-fill-color: #FFFFFF;\n",
              "      --disabled-bg-color: #3B4455;\n",
              "      --disabled-fill-color: #666;\n",
              "  }\n",
              "\n",
              "  .colab-df-quickchart {\n",
              "    background-color: var(--bg-color);\n",
              "    border: none;\n",
              "    border-radius: 50%;\n",
              "    cursor: pointer;\n",
              "    display: none;\n",
              "    fill: var(--fill-color);\n",
              "    height: 32px;\n",
              "    padding: 0;\n",
              "    width: 32px;\n",
              "  }\n",
              "\n",
              "  .colab-df-quickchart:hover {\n",
              "    background-color: var(--hover-bg-color);\n",
              "    box-shadow: 0 1px 2px rgba(60, 64, 67, 0.3), 0 1px 3px 1px rgba(60, 64, 67, 0.15);\n",
              "    fill: var(--button-hover-fill-color);\n",
              "  }\n",
              "\n",
              "  .colab-df-quickchart-complete:disabled,\n",
              "  .colab-df-quickchart-complete:disabled:hover {\n",
              "    background-color: var(--disabled-bg-color);\n",
              "    fill: var(--disabled-fill-color);\n",
              "    box-shadow: none;\n",
              "  }\n",
              "\n",
              "  .colab-df-spinner {\n",
              "    border: 2px solid var(--fill-color);\n",
              "    border-color: transparent;\n",
              "    border-bottom-color: var(--fill-color);\n",
              "    animation:\n",
              "      spin 1s steps(1) infinite;\n",
              "  }\n",
              "\n",
              "  @keyframes spin {\n",
              "    0% {\n",
              "      border-color: transparent;\n",
              "      border-bottom-color: var(--fill-color);\n",
              "      border-left-color: var(--fill-color);\n",
              "    }\n",
              "    20% {\n",
              "      border-color: transparent;\n",
              "      border-left-color: var(--fill-color);\n",
              "      border-top-color: var(--fill-color);\n",
              "    }\n",
              "    30% {\n",
              "      border-color: transparent;\n",
              "      border-left-color: var(--fill-color);\n",
              "      border-top-color: var(--fill-color);\n",
              "      border-right-color: var(--fill-color);\n",
              "    }\n",
              "    40% {\n",
              "      border-color: transparent;\n",
              "      border-right-color: var(--fill-color);\n",
              "      border-top-color: var(--fill-color);\n",
              "    }\n",
              "    60% {\n",
              "      border-color: transparent;\n",
              "      border-right-color: var(--fill-color);\n",
              "    }\n",
              "    80% {\n",
              "      border-color: transparent;\n",
              "      border-right-color: var(--fill-color);\n",
              "      border-bottom-color: var(--fill-color);\n",
              "    }\n",
              "    90% {\n",
              "      border-color: transparent;\n",
              "      border-bottom-color: var(--fill-color);\n",
              "    }\n",
              "  }\n",
              "</style>\n",
              "\n",
              "  <script>\n",
              "    async function quickchart(key) {\n",
              "      const quickchartButtonEl =\n",
              "        document.querySelector('#' + key + ' button');\n",
              "      quickchartButtonEl.disabled = true;  // To prevent multiple clicks.\n",
              "      quickchartButtonEl.classList.add('colab-df-spinner');\n",
              "      try {\n",
              "        const charts = await google.colab.kernel.invokeFunction(\n",
              "            'suggestCharts', [key], {});\n",
              "      } catch (error) {\n",
              "        console.error('Error during call to suggestCharts:', error);\n",
              "      }\n",
              "      quickchartButtonEl.classList.remove('colab-df-spinner');\n",
              "      quickchartButtonEl.classList.add('colab-df-quickchart-complete');\n",
              "    }\n",
              "    (() => {\n",
              "      let quickchartButtonEl =\n",
              "        document.querySelector('#df-edfe4fb1-6420-4730-b6ec-c9669a37f669 button');\n",
              "      quickchartButtonEl.style.display =\n",
              "        google.colab.kernel.accessAllowed ? 'block' : 'none';\n",
              "    })();\n",
              "  </script>\n",
              "</div>\n",
              "\n",
              "    </div>\n",
              "  </div>\n"
            ],
            "application/vnd.google.colaboratory.intrinsic+json": {
              "type": "dataframe",
              "summary": "{\n  \"name\": \"df\",\n  \"rows\": 5,\n  \"fields\": [\n    {\n      \"column\": \"name\",\n      \"properties\": {\n        \"dtype\": \"string\",\n        \"num_unique_values\": 5,\n        \"samples\": [\n          \"New Indraprasta\",\n          \"Vijayalakshmi\",\n          \"Anna Kuteera\"\n        ],\n        \"semantic_type\": \"\",\n        \"description\": \"\"\n      }\n    },\n    {\n      \"column\": \"online_order\",\n      \"properties\": {\n        \"dtype\": \"category\",\n        \"num_unique_values\": 2,\n        \"samples\": [\n          \"Yes\",\n          \"No\"\n        ],\n        \"semantic_type\": \"\",\n        \"description\": \"\"\n      }\n    },\n    {\n      \"column\": \"book_table\",\n      \"properties\": {\n        \"dtype\": \"category\",\n        \"num_unique_values\": 1,\n        \"samples\": [\n          \"No\"\n        ],\n        \"semantic_type\": \"\",\n        \"description\": \"\"\n      }\n    },\n    {\n      \"column\": \"rate\",\n      \"properties\": {\n        \"dtype\": \"string\",\n        \"num_unique_values\": 4,\n        \"samples\": [\n          \"4.0/5\"\n        ],\n        \"semantic_type\": \"\",\n        \"description\": \"\"\n      }\n    },\n    {\n      \"column\": \"votes\",\n      \"properties\": {\n        \"dtype\": \"number\",\n        \"std\": 331,\n        \"min\": 0,\n        \"max\": 771,\n        \"num_unique_values\": 4,\n        \"samples\": [\n          771\n        ],\n        \"semantic_type\": \"\",\n        \"description\": \"\"\n      }\n    },\n    {\n      \"column\": \"approx_cost(for two people)\",\n      \"properties\": {\n        \"dtype\": \"number\",\n        \"std\": 290,\n        \"min\": 100,\n        \"max\": 800,\n        \"num_unique_values\": 5,\n        \"samples\": [\n          150\n        ],\n        \"semantic_type\": \"\",\n        \"description\": \"\"\n      }\n    },\n    {\n      \"column\": \"listed_in(type)\",\n      \"properties\": {\n        \"dtype\": \"category\",\n        \"num_unique_values\": 1,\n        \"samples\": [\n          \"Dining\"\n        ],\n        \"semantic_type\": \"\",\n        \"description\": \"\"\n      }\n    }\n  ]\n}"
            }
          },
          "metadata": {},
          "execution_count": 7
        }
      ]
    },
    {
      "cell_type": "code",
      "source": [
        "df.info()"
      ],
      "metadata": {
        "colab": {
          "base_uri": "https://localhost:8080/"
        },
        "id": "9LZd4NR4m8Pn",
        "outputId": "06f34436-7121-4c33-9779-e4de1af4a60f"
      },
      "execution_count": 8,
      "outputs": [
        {
          "output_type": "stream",
          "name": "stdout",
          "text": [
            "<class 'pandas.core.frame.DataFrame'>\n",
            "RangeIndex: 148 entries, 0 to 147\n",
            "Data columns (total 7 columns):\n",
            " #   Column                       Non-Null Count  Dtype \n",
            "---  ------                       --------------  ----- \n",
            " 0   name                         148 non-null    object\n",
            " 1   online_order                 148 non-null    object\n",
            " 2   book_table                   148 non-null    object\n",
            " 3   rate                         148 non-null    object\n",
            " 4   votes                        148 non-null    int64 \n",
            " 5   approx_cost(for two people)  148 non-null    int64 \n",
            " 6   listed_in(type)              148 non-null    object\n",
            "dtypes: int64(2), object(5)\n",
            "memory usage: 8.2+ KB\n"
          ]
        }
      ]
    },
    {
      "cell_type": "code",
      "source": [
        "def handleRate(value):\n",
        "  value=str(value).split('/')\n",
        "  value=value[0]\n",
        "  return float(value)\n",
        "\n",
        "df['rate']=df['rate'].apply(handleRate)\n",
        "print(df.head())"
      ],
      "metadata": {
        "colab": {
          "base_uri": "https://localhost:8080/"
        },
        "id": "y--jxHWLm-G6",
        "outputId": "0ac10f09-83dc-4b4d-e1a8-4c06fa6b3c37"
      },
      "execution_count": 12,
      "outputs": [
        {
          "output_type": "stream",
          "name": "stdout",
          "text": [
            "                    name online_order book_table  rate  votes  \\\n",
            "0                  Jalsa          Yes        Yes   4.1    775   \n",
            "1         Spice Elephant          Yes         No   4.1    787   \n",
            "2        San Churro Cafe          Yes         No   3.8    918   \n",
            "3  Addhuri Udupi Bhojana           No         No   3.7     88   \n",
            "4          Grand Village           No         No   3.8    166   \n",
            "\n",
            "   approx_cost(for two people) listed_in(type)  \n",
            "0                          800          Buffet  \n",
            "1                          800          Buffet  \n",
            "2                          800          Buffet  \n",
            "3                          300          Buffet  \n",
            "4                          600          Buffet  \n"
          ]
        }
      ]
    },
    {
      "cell_type": "markdown",
      "source": [
        "Types of Resturant"
      ],
      "metadata": {
        "id": "ahjMr90Hp9Vg"
      }
    },
    {
      "cell_type": "code",
      "source": [
        "sns.countplot(x=df['listed_in(type)'])\n",
        "plt.xlabel('Types of Resturant')\n",
        "plt.ylabel('Count')\n",
        "plt.show()"
      ],
      "metadata": {
        "colab": {
          "base_uri": "https://localhost:8080/",
          "height": 449
        },
        "id": "nIi_w-hHom0o",
        "outputId": "3e79d050-7495-4c5b-da3b-a7bf1e61a617"
      },
      "execution_count": 15,
      "outputs": [
        {
          "output_type": "display_data",
          "data": {
            "text/plain": [
              "<Figure size 640x480 with 1 Axes>"
            ],
            "image/png": "[encoded data removed]"
          },
          "metadata": {}
        }
      ]
    },
    {
      "cell_type": "markdown",
      "source": [
        "how many votes get a resturant"
      ],
      "metadata": {
        "id": "iLZFbznWr4Wn"
      }
    },
    {
      "cell_type": "code",
      "source": [
        "grouped_data = df.groupby('listed_in(type)')['votes'].sum()\n",
        "result = grouped_data.sort_values(ascending=False)\n",
        "plt.plot(result, c=\"green\", marker=\"o\")\n",
        "plt.xlabel(\"Types of Resturant\", c=\"red\", size=20)\n",
        "plt.ylabel(\"Votes\", c=\"red\", size=20)\n"
      ],
      "metadata": {
        "colab": {
          "base_uri": "https://localhost:8080/",
          "height": 480
        },
        "id": "EYd6UY62qQfd",
        "outputId": "1d58f87b-c27c-4d5c-d86b-a4d76e7ba6bc"
      },
      "execution_count": 20,
      "outputs": [
        {
          "output_type": "execute_result",
          "data": {
            "text/plain": [
              "Text(0, 0.5, 'Votes')"
            ]
          },
          "metadata": {},
          "execution_count": 20
        },
        {
          "output_type": "display_data",
          "data": {
            "text/plain": [
              "<Figure size 640x480 with 1 Axes>"
            ],
            "image/png": "[encoded data removed]"
          },
          "metadata": {}
        }
      ]
    },
    {
      "cell_type": "markdown",
      "source": [
        "rating of resturant"
      ],
      "metadata": {
        "id": "EaymzBNRuMas"
      }
    },
    {
      "cell_type": "code",
      "source": [
        "plt.hist(df['rate'],bins=2,color='red')\n",
        "plt.xlabel('Rating')\n",
        "plt.ylabel('Count')\n",
        "plt.show()"
      ],
      "metadata": {
        "colab": {
          "base_uri": "https://localhost:8080/",
          "height": 449
        },
        "id": "RMXXMPj9tN4q",
        "outputId": "4d3ab4d1-43a0-4830-ce7b-ff3a45cdcd0c"
      },
      "execution_count": 23,
      "outputs": [
        {
          "output_type": "display_data",
          "data": {
            "text/plain": [
              "<Figure size 640x480 with 1 Axes>"
            ],
            "image/png": "[encoded data removed]"
          },
          "metadata": {}
        }
      ]
    },
    {
      "cell_type": "markdown",
      "source": [
        "Average amount of a orders"
      ],
      "metadata": {
        "id": "TKy-WplbwWY4"
      }
    },
    {
      "cell_type": "code",
      "source": [
        "couple_data=df['approx_cost(for two people)']\n",
        "sns.countplot(x=couple_data)\n",
        "plt.xlabel('Amount')\n",
        "plt.show()"
      ],
      "metadata": {
        "colab": {
          "base_uri": "https://localhost:8080/",
          "height": 449
        },
        "id": "8mhcXrXkvKa7",
        "outputId": "7813384f-66d2-4aa7-d17c-15781532f189"
      },
      "execution_count": 26,
      "outputs": [
        {
          "output_type": "display_data",
          "data": {
            "text/plain": [
              "<Figure size 640x480 with 1 Axes>"
            ],
            "image/png": "[encoded data removed]"
          },
          "metadata": {}
        }
      ]
    },
    {
      "cell_type": "markdown",
      "source": [
        "Which mode receives maximum Ratings"
      ],
      "metadata": {
        "id": "Jq3odptUxdCW"
      }
    },
    {
      "cell_type": "code",
      "source": [
        "plt.figure(figsize=(10, 6))\n",
        "sns.boxplot(x='online_order', y='rate', data=df)"
      ],
      "metadata": {
        "colab": {
          "base_uri": "https://localhost:8080/",
          "height": 559
        },
        "id": "zjjOykN1w3Qz",
        "outputId": "7c9a6c2f-db07-43e7-9202-ddc4e565b4db"
      },
      "execution_count": 29,
      "outputs": [
        {
          "output_type": "execute_result",
          "data": {
            "text/plain": [
              "<Axes: xlabel='online_order', ylabel='rate'>"
            ]
          },
          "metadata": {},
          "execution_count": 29
        },
        {
          "output_type": "display_data",
          "data": {
            "text/plain": [
              "<Figure size 1000x600 with 1 Axes>"
            ],
            "image/png": "[encoded data removed]"
          },
          "metadata": {}
        }
      ]
    },
    {
      "cell_type": "markdown",
      "source": [
        "Average Rating by online order and types of resturant"
      ],
      "metadata": {
        "id": "O0-0_Wn93hJC"
      }
    },
    {
      "cell_type": "code",
      "source": [
        "pivot_table = df.pivot_table(index='listed_in(type)', columns='online_order', values='rate', aggfunc='mean')\n",
        "sns.heatmap(pivot_table, annot=True, cmap='coolwarm')\n",
        "plt.title('Average Rating by Online Order and Types of Resturant')\n",
        "plt.xlabel('Online Order')\n",
        "plt.ylabel('Types of Resturant')\n",
        "plt.show()"
      ],
      "metadata": {
        "colab": {
          "base_uri": "https://localhost:8080/",
          "height": 472
        },
        "id": "Nr9evAKixprX",
        "outputId": "eafa929b-d9ac-4868-cee0-ef14a788cf43"
      },
      "execution_count": 48,
      "outputs": [
        {
          "output_type": "display_data",
          "data": {
            "text/plain": [
              "<Figure size 640x480 with 2 Axes>"
            ],
            "image/png": "[encoded data removed]"
          },
          "metadata": {}
        }
      ]
    },
    {
      "cell_type": "code",
      "source": [],
      "metadata": {
        "id": "HWFi8rVEyurm"
      },
      "execution_count": null,
      "outputs": []
    }
  ]
}